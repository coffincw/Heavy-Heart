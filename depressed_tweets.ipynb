{
 "cells": [
  {
   "cell_type": "markdown",
   "metadata": {},
   "source": [
    "    \n",
    "# Heavy Heart\n",
    "<font color='red'>Heavy Heart</font> uses data collected on random users publicly posted tweets to  diagnose users with clinical depression. By using machine learning, Heavy Heart determines if a user should be recommended help based on the frequency and percentage of negative tweets compared to other tweets in the users feed.\n",
    "* * *"
   ]
  },
  {
   "cell_type": "markdown",
   "metadata": {},
   "source": [
    "### Import statements and data structure declarations\n",
    "Here <font color='red'>Heavy Heart</font> imports a number of libraries important to the success of the process.  The most important being the tweepy library which allows <font color='red'>Heavy Heart</font> to directly connect with the Twitter API. <font color='red'>Heavy Heart</font> also declares a few data structures for later use."
   ]
  },
  {
   "cell_type": "code",
   "execution_count": 1,
   "metadata": {},
   "outputs": [],
   "source": [
    "import re\n",
    "import math\n",
    "import tweepy\n",
    "import io\n",
    "import time\n",
    "import matplotlib\n",
    "import matplotlib.pyplot as plt\n",
    "import json\n",
    "import numpy as np\n",
    "from tweepy import OAuthHandler\n",
    "from textblob import TextBlob\n",
    "from textblob.classifiers import NaiveBayesClassifier\n",
    "import pandas\n",
    "test_data=[]\n",
    "train_control=[]\n",
    "train_depressed=[]\n",
    "data = []"
   ]
  },
  {
   "cell_type": "markdown",
   "metadata": {},
   "source": [
    "### Authentication, tokens and keys\n",
    "<font color='red'>Heavy Heart</font> declares the keys and tokens needed by twitter's developer api and tweepy. Then <font color='red'>Heavy Heart</font> authenticates the connection with twitter through tweepy."
   ]
  },
  {
   "cell_type": "code",
   "execution_count": 2,
   "metadata": {},
   "outputs": [],
   "source": [
    "consumer_key = 'n4zRm3xuVoYoBHDLbSSqCxlII'\n",
    "consumer_secret = 'i2bxYM53rVNv0NFnO4iALdUYUDXHSEp9JARjpSu6290B5W6BLj'\n",
    "access_token = '3265727682-sWioD71Vv1zJie1KCERyHZWgzCdDsGAy3lzdLJA'\n",
    "access_token_secret = 'Ir9vMlPyiJwafcqXOiRJgtdWpev2VU3rI0Z2MWXlJ79SV'\n",
    "\n",
    "        # attempt authentication\n",
    "try:\n",
    "            # create OAuthHandler object\n",
    "    auth = OAuthHandler(consumer_key, consumer_secret)\n",
    "            # set access token and secret\n",
    "    auth.set_access_token(access_token, access_token_secret)\n",
    "            # create tweepy API object to fetch tweets\n",
    "    api = tweepy.API(auth,wait_on_rate_limit=True)\n",
    "except:\n",
    "    print(\"Error: Authentication Failed\")"
   ]
  },
  {
   "cell_type": "markdown",
   "metadata": {},
   "source": [
    "### Cleaning raw extracted tweets\n",
    "clean_tweet(tweet) removes unessary characters from the tweet to cut down on processing time and potential future errors."
   ]
  },
  {
   "cell_type": "code",
   "execution_count": 3,
   "metadata": {},
   "outputs": [],
   "source": [
    "def clean_tweet(tweet):\n",
    "    return ' '.join(re.sub(\"(@[A-Za-z0-9]+)|([^0-9A-Za-z \\t]) |(\\w+:\\/\\/\\S+)\", \" \", tweet).split())\n"
   ]
  },
  {
   "cell_type": "markdown",
   "metadata": {},
   "source": [
    "### Determining tweet sentiment\n",
    "Using the reduced tweet obtained with clean_tweet, <font color='red'>Heavy Heart</font> classifies the sentiment of the tweet passed in using textblob's sentiment method."
   ]
  },
  {
   "cell_type": "code",
   "execution_count": 4,
   "metadata": {},
   "outputs": [],
   "source": [
    "def get_tweet_sentiment(tweet):\n",
    "    \"\"\"\n",
    "    Utility function to classify sentiment of passed tweet\n",
    "\tusing textblob's sentiment method\n",
    "\t\"\"\"\n",
    "    # create TextBlob object of passed tweet text\n",
    "    analysis = TextBlob(clean_tweet(tweet))\n",
    "    # set sentiment\n",
    "    if analysis.sentiment.polarity > 0:\n",
    "        return 'positive'\n",
    "    elif analysis.sentiment.polarity == 0:\n",
    "        return 'neutral'\n",
    "    else:\n",
    "        return 'negative'"
   ]
  },
  {
   "cell_type": "markdown",
   "metadata": {},
   "source": [
    "### Parsing tweets\n",
    "<font color='red'>Heavy Heart</font> uses get_tweets to collect all tweets of a certain query.  <font color='red'>Heavy Heart</font> specifically uses this function when searching for tweets which show negative sentiment by using queries such as '#depressed' or '#depression'"
   ]
  },
  {
   "cell_type": "code",
   "execution_count": 5,
   "metadata": {},
   "outputs": [],
   "source": [
    "users = []\n",
    "def get_tweets(query, count=10):\n",
    "        # empty list to store parsed tweets\n",
    "        tweets = []\n",
    "\n",
    "        try:\n",
    "            # call twitter api to fetch tweets, set language to english\n",
    "            fetched_tweets = api.search(q=query, count=count, lang=\"en\")\n",
    "            # parsing tweets one by one\n",
    "            for tweet in fetched_tweets:\n",
    "                # empty dictionary to store required params of a tweet\n",
    "                users.append(tweet.user.screen_name)\n",
    "                parsed_tweet = clean_tweet(tweet.text)\n",
    "                # saving text of tweet\n",
    "                # saving sentiment of tweet\n",
    "\n",
    "                # appending parsed tweet to tweets list\n",
    "                if tweet.retweet_count > 0:\n",
    "                    # if tweet has retweets, ensure that it is appended only once\n",
    "                    if parsed_tweet not in tweets:\n",
    "                        tweets.append((parsed_tweet,tweet.user.screen_name))\n",
    "                else:\n",
    "                    tweets.append((parsed_tweet,tweet.user.screen_name))\n",
    "\n",
    "                # return parsed tweets\n",
    "            return tweets\n",
    "\n",
    "        except tweepy.TweepError as e:\n",
    "            # print error (if any)\n",
    "            print(\"Error : \" + str(e))\n",
    "            "
   ]
  },
  {
   "cell_type": "markdown",
   "metadata": {},
   "source": [
    "### Keywords\n",
    "<font color='red'>Heavy Heart</font> declares the lists of key words the algorithm searches for when parsing for tweets.  Using these keywords, <font color='red'>Heavy Heart</font> is trained to better identify negative sentiment tweets."
   ]
  },
  {
   "cell_type": "code",
   "execution_count": 6,
   "metadata": {},
   "outputs": [],
   "source": [
    "# train_depressed = get_tweets(query=\"#depressed\",count = 50)\n",
    "# train_depressed = list(filter(lambda x:get_tweet_sentiment(tweet=x)==\"negative\",train_depressed))\n",
    "# train_control = get_tweets(query=\"the\",count = 50)\n",
    "# test_data = get_tweets(query=\"#anxiety\",count = 50)\n",
    "keywords2 = [\"e%20\",\"s%20\",\"%20t\",\"%20a\",\"%20f\"]\n",
    "keywords = [\"I need someone to talk to\", \"depressed\", \"wanna talk to someone\", \"want to talk to someone\", \"#depressed\",\n",
    "                \"#depression\", \"lonely\", \"alone\", \"sad\", \"i'm worthless\", \"falling apart\", \"disappointed in myself\", \"i'm the worst\", \"i'm useless\", \"i am useless\", \"i'm a failure\", \"I am a failure\", \"too much pain\", \"unfair\", \"i'm not happy\", \"i am not happy\", \"unhappy\", \"regret\", \"have no one\", \"I don't know what to do\", \"i'm lost\", \"i am lost\", \"i am so lost\", \"hate me\", \"kill myself\", \"end myself\", \"end my life\", \"want to die\", \"I want to commit suicide\", \"i'm no good\", \"feel like shit\", \"i feel invisible\", \"suicide\", \"mad at me\", \"I feel dead\", \"mental health\", \"meaningless\", \"bomb this test\", \"fail this test\", \"fail this\", \"unloved\", \"ugly\", \"fat\", \"disgusting\", \"deal with\", \"deal with pain\", \"deal with the pain\", \"never healed\", \"not healed\", \"upset\", \"shut myself down\", \"no motivation\", \"nobody cares\", \"broken\", \"never wake up\", \"never wake\", \"my fault\", \"give an end to my fucking life\", \"I never existed\", \"suicidal\", \"sick of\", \"tears\", \"hurt me\", \"bullying\", \"you're going to fail\", \"do it until you die\", \"miserable\", \"pointless\", \"waste of time\", \"die alone\", \"what's the point\", \"everything is awful\", \"abandon\", \"abandonment\", \"worse and worse\", \"never gets better\", \"misery\", \"regret\", \"I'll ruin it\", \"never been born\", \"horrible life\", \"dead inside\", \"I am going to fail\", \"I am not happy\", \"I am the worst\", \"I am worthless\", \"ruin it\", \"emotionless\", \"sorry\", \"I am tired\", \"I'm tired\", \"mean nothing\"]\n",
    "        "
   ]
  },
  {
   "cell_type": "markdown",
   "metadata": {},
   "source": [
    "### Saving the data\n",
    "<font color='red'>Heavy Heart</font> saves the data to a json file in order to use the data in future searches to avoid reparsing large amounts of twitter tweets."
   ]
  },
  {
   "cell_type": "code",
   "execution_count": 7,
   "metadata": {},
   "outputs": [],
   "source": [
    "def save_data_to_json():\n",
    "    data = []\n",
    "    import json\n",
    "    print(\"%s, %s\",len(train_depressed),len(train_control))\n",
    "    for x in train_depressed:\n",
    "        data.append({\"text\":x[0],\"label\":\"depressed\",\"user\":x[1]})\n",
    "    for x in train_control:\n",
    "        data.append({\"text\":x[0],\"label\":\"not depressed\",\"user\":x[1]})\n",
    "    with open('train.json','w') as fp:\n",
    "        json.dump(data,fp)"
   ]
  },
  {
   "cell_type": "markdown",
   "metadata": {},
   "source": [
    "### Building a training set\n",
    "<font color='red'>Heavy Heart</font> continuously queries twitter over the keywords for tweets.  crawl_twitter() labels each tweet based on their sentiment (calculated with get_tweet_sentiment()).  <font color='red'>Heavy Heart</font> creates a labeled 'depressed' list and a labeled 'not depressed' list as a control group."
   ]
  },
  {
   "cell_type": "code",
   "execution_count": 8,
   "metadata": {},
   "outputs": [],
   "source": [
    " def crawl_twitter():\n",
    "    import json\n",
    "    i=0\n",
    "    minutes=16\n",
    "    while(len(train_depressed)<1000):\n",
    "        tweets = (get_tweets(query=keywords[i%len(keywords)],count = 100))\n",
    "        for x in tweets:\n",
    "            if(get_tweet_sentiment(x[0])=='negative'):\n",
    "                train_depressed.append(x)\n",
    "        tweets = get_tweets(query=keywords2[i%len(keywords2)],count = 100)\n",
    "        for x in tweets:\n",
    "            train_control.append(x)\n",
    "        i+=1\n",
    "        save_data_to_json()\n",
    "\n",
    "#crawl_twitter()"
   ]
  },
  {
   "cell_type": "markdown",
   "metadata": {},
   "source": [
    "### Loading the training data\n",
    "Here <font color='red'>Heavy Heart</font> loads the training data stored in a json file."
   ]
  },
  {
   "cell_type": "code",
   "execution_count": 9,
   "metadata": {},
   "outputs": [],
   "source": [
    "\n",
    "with open('train.json','r') as fp:\n",
    "    cl = NaiveBayesClassifier(fp,format='json')\n"
   ]
  },
  {
   "cell_type": "markdown",
   "metadata": {},
   "source": [
    "### Classifying tweets\n",
    "<font color='red'>Heavy Heart</font> uses is_depressed to calculate a specific tweets sentiment value to determine whether a tweet is negative, neutral or positive.  This process is performed on the depressed training group as well as the control group in order to further test results."
   ]
  },
  {
   "cell_type": "code",
   "execution_count": 10,
   "metadata": {},
   "outputs": [],
   "source": [
    "def is_depressed(review):\n",
    "  if(is_depressed.counter==0):#define probabilities\n",
    "      is_depressed.lenP = 0\n",
    "      is_depressed.lenN = 0\n",
    "      is_depressed.countMapD = {}#depressed revieww \n",
    "      is_depressed.countMapC = {}#Control review\n",
    "      print(\"defining probabilities, this will take a while\")\n",
    "      for depressedReview in train_depressed:\n",
    "          for word in depressedReview[0]:\n",
    "              is_depressed.lenP+=1\n",
    "              if(is_depressed.countMapD.__contains__(word)):\n",
    "                  tempDic = {word: is_depressed.countMapD.get(word) + 1}\n",
    "                  is_depressed.countMapD.update(tempDic)\n",
    "              else:\n",
    "                  is_depressed.countMapD.update({word: 1})\n",
    "      for controlReview in train_control:\n",
    "          for word in controlReview[0]:\n",
    "              is_depressed.lenN+=1\n",
    "              if (is_depressed.countMapC.__contains__(word)):\n",
    "                  tempDic = {word: is_depressed.countMapC.get(word) + 1}\n",
    "                  is_depressed.countMapC.update(tempDic)\n",
    "              else:\n",
    "                  is_depressed.countMapC.update({word: 1})\n",
    "  is_depressed.counter+=1\n",
    "  logProductP = 0\n",
    "  logProductN = 0\n",
    "  probPos = float(is_depressed.lenP)/float(is_depressed.lenP+is_depressed.lenN)\n",
    "  probNeg = float(is_depressed.lenN)/float(is_depressed.lenP+is_depressed.lenN)\n",
    "  for word in review:\n",
    "      logProductN += math.log(float(is_depressed.countMapC.get(word,1)))\n",
    "      logProductP += math.log(float(is_depressed.countMapD.get(word,1)))\n",
    "  return logProductP-math.log(float(is_depressed.lenP))>logProductN-math.log(float(is_depressed.lenN))\n",
    "\n",
    "is_depressed.counter = 0\n",
    "is_depressed.lenP = 0\n",
    "is_depressed.lenN = 0\n",
    "is_depressed.countMapD = {}\n",
    "is_depressed.countMapC = {}"
   ]
  },
  {
   "cell_type": "code",
   "execution_count": 11,
   "metadata": {
    "scrolled": true
   },
   "outputs": [],
   "source": [
    "for x in train_depressed:\n",
    "    print(round(cl.prob_classify(x).prob(\"depressed\"),3))\n",
    "    print(cl.prob_classify(x).max())"
   ]
  },
  {
   "cell_type": "markdown",
   "metadata": {},
   "source": [
    "### Resultant data\n",
    "<font color='red'>Heavy Heart</font> uses all the previous code segments to apply machine learning ideas in order to learn more about twitter user's mental state based on their tweet history versus the twitter history <font color='red'>Heavy Heart</font> learned.  getTimeline allows <font color='red'>Heavy Heart</font> to retrieve the timeline of a specified user.  aveDepression and percentTweetsDepressed use the timeline returned from getTimeline in order to calculate, respectively, the average depression rating per tweet of a user and the percent of depressed tweets the user has had during their past ~3000 tweets."
   ]
  },
  {
   "cell_type": "code",
   "execution_count": 12,
   "metadata": {},
   "outputs": [],
   "source": [
    "def getTimeline(username):\n",
    "  timeline = []\n",
    "  #api = GetTimeline().api\n",
    "  for status in tweepy.Cursor(api.user_timeline, screen_name = username, count = 20, wait_on_rate_limit = True, wait_on_rate_limit_notify = True).items():\n",
    "    timeline.append(status.text)\n",
    "  return timeline\n",
    "\n",
    "def aveDepression(user):\n",
    "    timeline = getTimeline(user)\n",
    "    probDepressed = []\n",
    "    for x in timeline:\n",
    "        probDepressed.append(cl.prob_classify(x).prob(\"not depressed\"))\n",
    "    return sum(probDepressed)/float(len(probDepressed))\n",
    "\n",
    "def percentTweetsDepressed(user):\n",
    "    timeline = getTimeline(user)\n",
    "    depressed = 0\n",
    "    control = 0\n",
    "    for x in timeline:\n",
    "        if(cl.prob_classify(x).max()==\"depressed\"):\n",
    "            depressed+=1\n",
    "        else:\n",
    "            control+=1\n",
    "            \n",
    "    print('Negative Tweets', depressed)\n",
    "    print('Total tweets', float((depressed+control)))\n",
    "    return depressed/float((depressed+control))"
   ]
  },
  {
   "cell_type": "markdown",
   "metadata": {},
   "source": [
    "### Visualization\n",
    "We can see this data visualized below with an example of YouTuber and streamer Boogie2988 and his recent twitter tweet content history.  This system can be applied to any twitter user in order to retrieve information about whether or not they should be recommended useful clincal depression resources over direct message."
   ]
  },
  {
   "cell_type": "code",
   "execution_count": 13,
   "metadata": {},
   "outputs": [
    {
     "name": "stdout",
     "output_type": "stream",
     "text": [
      "Negative Tweets 545\n",
      "Total tweets 3199.0\n"
     ]
    },
    {
     "data": {
      "image/png": "[encoded data removed]",
      "text/plain": [
       "<Figure size 432x288 with 1 Axes>"
      ]
     },
     "metadata": {},
     "output_type": "display_data"
    }
   ],
   "source": [
    "# Pie chart, where the slices will be ordered and plotted counter-clockwise:\n",
    "labels = 'Depressed Tweets', 'Non-Negative Tweets'\n",
    "percent = percentTweetsDepressed('Boogie2988')\n",
    "sizes = [percent, 1-percent]\n",
    "explode = (0, 0.1)  # only \"explode\" the 2nd slice (i.e. 'Hogs')\n",
    "\n",
    "fig1, ax1 = plt.subplots()\n",
    "ax1.pie(sizes, explode=explode, labels=labels, autopct='%1.1f%%',\n",
    "        shadow=True, startangle=90)\n",
    "ax1.axis('equal')  # Equal aspect ratio ensures that pie is drawn as a circle.\n",
    "\n",
    "plt.show()"
   ]
  }
 ],
 "metadata": {
  "kernelspec": {
   "display_name": "Python 3",
   "language": "python",
   "name": "python3"
  },
  "language_info": {
   "codemirror_mode": {
    "name": "ipython",
    "version": 3
   },
   "file_extension": ".py",
   "mimetype": "text/x-python",
   "name": "python",
   "nbconvert_exporter": "python",
   "pygments_lexer": "ipython3",
   "version": "3.6.6"
  }
 },
 "nbformat": 4,
 "nbformat_minor": 2
}
